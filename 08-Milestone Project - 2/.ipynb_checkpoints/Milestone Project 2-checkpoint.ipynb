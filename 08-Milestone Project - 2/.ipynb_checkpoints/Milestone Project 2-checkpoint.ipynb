{
 "cells": [
  {
   "cell_type": "markdown",
   "metadata": {},
   "source": [
    "___\n",
    "\n",
    "<a href='https://www.udemy.com/user/joseportilla/'><img src='../Pierian_Data_Logo.png'/></a>\n",
    "___\n",
    "<center><em>Content Copyright by Pierian Data</em></center>"
   ]
  },
  {
   "cell_type": "markdown",
   "metadata": {
    "collapsed": true
   },
   "source": [
    "# Milestone Project 2 - Blackjack"
   ]
  },
  {
   "cell_type": "markdown",
   "metadata": {},
   "source": [
    "## Game Play\n",
    "To play a hand of Blackjack the following steps must be followed:\n",
    "1. Create a deck of 52 cards\n",
    "2. Shuffle the deck\n",
    "3. Ask the Player for their bet\n",
    "4. Make sure that the Player's bet does not exceed their available chips\n",
    "5. Deal two cards to the Dealer and two cards to the Player\n",
    "6. Show only one of the Dealer's cards, the other remains hidden\n",
    "7. Show both of the Player's cards\n",
    "8. Ask the Player if they wish to Hit, and take another card\n",
    "9. If the Player's hand doesn't Bust (go over 21), ask if they'd like to Hit again.\n",
    "10. If a Player Stands, play the Dealer's hand. The dealer will always Hit until the Dealer's value meets or exceeds 17\n",
    "11. Determine the winner and adjust the Player's chips accordingly\n",
    "12. Ask the Player if they'd like to play again"
   ]
  },
  {
   "cell_type": "markdown",
   "metadata": {},
   "source": [
    "## Playing Cards\n",
    "A standard deck of playing cards has four suits (Hearts, Diamonds, Spades and Clubs) and thirteen ranks (2 through 10, then the face cards Jack, Queen, King and Ace) for a total of 52 cards per deck. Jacks, Queens and Kings all have a rank of 10. Aces have a rank of either 11 or 1 as needed to reach 21 without busting."
   ]
  },
  {
   "cell_type": "markdown",
   "metadata": {},
   "source": [
    "## The Game\n",
    "### Imports and Global Variables\n",
    "** Step 1: Import the random module. This will be used to shuffle the deck prior to dealing. Declare variables to store suits, ranks and values. declare a Boolean value to be used to control <code>while</code> loops. This is used to control the flow of the game.**"
   ]
  },
  {
   "cell_type": "code",
   "execution_count": 1,
   "metadata": {},
   "outputs": [],
   "source": [
    "import random\n",
    "\n",
    "suits = ('Hearts', 'Diamonds', 'Spades', 'Clubs')\n",
    "ranks = ('Two', 'Three', 'Four', 'Five', 'Six', 'Seven', 'Eight', 'Nine', 'Ten', 'Jack', 'Queen', 'King', 'Ace')\n",
    "values = {'Two':2, 'Three':3, 'Four':4, 'Five':5, 'Six':6, 'Seven':7, 'Eight':8, 'Nine':9, 'Ten':10, 'Jack':10,\n",
    "         'Queen':10, 'King':10, 'Ace':11}\n",
    "\n",
    "playing = True"
   ]
  },
  {
   "cell_type": "markdown",
   "metadata": {},
   "source": [
    "### Class Definitions\n",
    "Consider making a Card class where each Card object has a suit and a rank, then a Deck class to hold all 52 Card objects, and can be shuffled, and finally a Hand class that holds those Cards that have been dealt to each player from the Deck."
   ]
  },
  {
   "cell_type": "markdown",
   "metadata": {},
   "source": [
    "**Step 2: Create a Card Class**<br>\n",
    "A Card object really only needs two attributes: suit and rank. You might add an attribute for \"value\" - we chose to handle value later when developing our Hand class.<br>In addition to the Card's \\_\\_init\\_\\_ method, consider adding a \\_\\_str\\_\\_ method that, when asked to print a Card, returns a string in the form \"Two of Hearts\""
   ]
  },
  {
   "cell_type": "code",
   "execution_count": 2,
   "metadata": {},
   "outputs": [],
   "source": [
    "class Card():\n",
    "    \n",
    "    def __init__(self, suit, rank):\n",
    "        self.suit = suit\n",
    "        self.rank = rank\n",
    "    \n",
    "    def __str__(self):\n",
    "        return self.rank + ' of ' + self.suit"
   ]
  },
  {
   "cell_type": "markdown",
   "metadata": {},
   "source": [
    "**Step 3: Create a Deck Class**<br>\n",
    "Here we might store 52 card objects in a list that can later be shuffled. First, though, we need to *instantiate* all 52 unique card objects and add them to our list. So long as the Card class definition appears in our code, we can build Card objects inside our Deck \\_\\_init\\_\\_ method. Consider iterating over sequences of suits and ranks to build out each card. This might appear inside a Deck class \\_\\_init\\_\\_ method:\n",
    "\n",
    "    for suit in suits:\n",
    "        for rank in ranks:\n",
    "\n",
    "In addition to an \\_\\_init\\_\\_ method we'll want to add methods to shuffle our deck, and to deal out cards during gameplay.<br><br>\n",
    "OPTIONAL: We may never need to print the contents of the deck during gameplay, but having the ability to see the cards inside it may help troubleshoot any problems that occur during development. With this in mind, consider adding a \\_\\_str\\_\\_ method to the class definition."
   ]
  },
  {
   "cell_type": "code",
   "execution_count": 3,
   "metadata": {},
   "outputs": [],
   "source": [
    "class Deck:\n",
    "    \n",
    "    def __init__(self):\n",
    "        self.deck = []  # start with an empty list\n",
    "        #Loop through the suits\n",
    "        for suit in suits:\n",
    "            #Loop through the ranks\n",
    "            for rank in ranks:\n",
    "                #Create a card object using the card class\n",
    "                created_card = Card(suit, rank)\n",
    "                \n",
    "                # Append the created card into the deck to create the whole deck\n",
    "                self.deck.append(created_card)\n",
    "    \n",
    "    def __str__(self):\n",
    "        # Lets print all the contents of the deck\n",
    "        deck_comp = '' #Start with empty string\n",
    "        for card in self.deck:\n",
    "            deck_comp += '\\n' + card.__str__() #Adding the cards print string\n",
    "        \n",
    "        return \"The Deck has: \" + deck_comp\n",
    "\n",
    "    def shuffle(self):\n",
    "        # Shuffle the deck. This doesnt return anything. Even the shuffle function doesnt return anything\n",
    "        random.shuffle(self.deck)\n",
    "        \n",
    "    def deal(self):\n",
    "        # This fucntion is used to deal a card. Use the pop function,the default value is -1\n",
    "        deal_card = self.deck.pop()\n",
    "        return deal_card"
   ]
  },
  {
   "cell_type": "markdown",
   "metadata": {},
   "source": [
    "TESTING: Just to see that everything works so far, let's see what our Deck looks like!"
   ]
  },
  {
   "cell_type": "code",
   "execution_count": null,
   "metadata": {},
   "outputs": [],
   "source": [
    "test_deck = Deck()\n",
    "#Test to shuffle the test deck\n",
    "test_deck.shuffle()\n",
    "print(test_deck)"
   ]
  },
  {
   "cell_type": "code",
   "execution_count": null,
   "metadata": {},
   "outputs": [],
   "source": [
    "# Test for deal card functionality\n",
    "test_card = test_deck.deal()\n",
    "print(test_card)"
   ]
  },
  {
   "cell_type": "markdown",
   "metadata": {},
   "source": [
    "Great! Now let's move on to our Hand class."
   ]
  },
  {
   "cell_type": "markdown",
   "metadata": {},
   "source": [
    "**Step 4: Create a Hand Class**<br>\n",
    "In addition to holding Card objects dealt from the Deck, the Hand class may be used to calculate the value of those cards using the values dictionary defined above. It may also need to adjust for the value of Aces when appropriate."
   ]
  },
  {
   "cell_type": "code",
   "execution_count": 4,
   "metadata": {},
   "outputs": [],
   "source": [
    "class Hand:\n",
    "    def __init__(self):\n",
    "        self.cards = []  # start with an empty list as we did in the Deck class\n",
    "        self.value = 0   # start with zero value\n",
    "        self.aces = 0    # add an attribute to keep track of aces\n",
    "    \n",
    "    def add_card(self,card):\n",
    "        # So this method is used to add card from\n",
    "        # the Deck using Deck.deal() ---> Single Card(suit,rank)\n",
    "        self.cards.append(card)\n",
    "        # Here we add it to the value to find the total value of the Hand\n",
    "        self.value += values[card.rank]\n",
    "        \n",
    "        #Track Aces\n",
    "        if card.rank == 'Ace':\n",
    "            self.aces += 1\n",
    "    \n",
    "    def adjust_for_ace(self):\n",
    "        \n",
    "        # If total value > 21 and have ace, then \n",
    "        # change ace value to 1\n",
    "        while self.value > 21 and self.aces:\n",
    "            self.value -= 10\n",
    "            self.aces -= 1"
   ]
  },
  {
   "cell_type": "code",
   "execution_count": null,
   "metadata": {},
   "outputs": [],
   "source": [
    "test_deck = Deck()\n",
    "test_deck.shuffle()\n",
    "\n",
    "# Player\n",
    "test_player = Hand()\n",
    "# Add a card to the test player\n",
    "test_player.add_card(test_deck.deal())\n",
    "print(test_player.cards[0])\n",
    "print(test_player.value)"
   ]
  },
  {
   "cell_type": "markdown",
   "metadata": {},
   "source": [
    "**Step 5: Create a Chips Class**<br>\n",
    "In addition to decks of cards and hands, we need to keep track of a Player's starting chips, bets, and ongoing winnings. This could be done using global variables, but in the spirit of object oriented programming, let's make a Chips class instead!"
   ]
  },
  {
   "cell_type": "code",
   "execution_count": 5,
   "metadata": {},
   "outputs": [],
   "source": [
    "class Chips:\n",
    "    \n",
    "    def __init__(self, total=100):\n",
    "        self.total = total  # This can be set to a default value or supplied by a user input\n",
    "        self.bet = 0\n",
    "        \n",
    "    def win_bet(self):\n",
    "        self.total += self.bet\n",
    "    \n",
    "    def lose_bet(self):\n",
    "        self.total -= self.bet\n",
    "        \n",
    "    def add_funds(self,fund): # Added function to add more amount for betting. Actual call in take_bet()\n",
    "        self.total += fund"
   ]
  },
  {
   "cell_type": "markdown",
   "metadata": {},
   "source": [
    "### Function Defintions\n",
    "A lot of steps are going to be repetitive. That's where functions come in! The following steps are guidelines - add or remove functions as needed in your own program."
   ]
  },
  {
   "cell_type": "markdown",
   "metadata": {},
   "source": [
    "**Step 6: Write a function for taking bets**<br>\n",
    "Since we're asking the user for an integer value, this would be a good place to use <code>try</code>/<code>except</code>. Remember to check that a Player's bet can be covered by their available chips."
   ]
  },
  {
   "cell_type": "code",
   "execution_count": 6,
   "metadata": {},
   "outputs": [],
   "source": [
    "def take_bet(chips):\n",
    "    while True:\n",
    "        try:\n",
    "            chips.bet = int(input('Enter the bet value: '))\n",
    "        except ValueError:\n",
    "            print('Bet Value not an integer! Please correct value')\n",
    "        else:\n",
    "            if chips.bet > chips.total:\n",
    "                print('Sorry, you dont have sufficient fund. Available fund: ',chips.total)\n",
    "                add_more = input('\\nDo you want to add more funds ? y/n') # Ask if you want to add more funds\n",
    "                \n",
    "                if add_more[0].lower() == 'y':\n",
    "                    while True:\n",
    "                        try:\n",
    "                            fund = int(input('Enter the amount you want to add: ')) ## Ask how much you want to add\n",
    "                        except ValueError:\n",
    "                            print('Fund Value not an integer! Please enter correct value')\n",
    "                        else:\n",
    "                            chips.add_funds(fund)\n",
    "                            print('Total funds for allowable betting: ', chips.total)\n",
    "                            break\n",
    "                else:\n",
    "                    print('Play with available fund or lower. Available fund:', chips.total)\n",
    "            else:\n",
    "                break"
   ]
  },
  {
   "cell_type": "code",
   "execution_count": null,
   "metadata": {},
   "outputs": [],
   "source": [
    "## Test the take_bet function\n",
    "test_chip = Chips()\n",
    "take_bet(test_chip)"
   ]
  },
  {
   "cell_type": "code",
   "execution_count": null,
   "metadata": {},
   "outputs": [],
   "source": [
    "## Test with giving a custom fund\n",
    "test_chip = Chips(2000)\n",
    "take_bet(test_chip)\n",
    "print(test_chip.total)\n",
    "print(test_chip.bet)"
   ]
  },
  {
   "cell_type": "markdown",
   "metadata": {},
   "source": [
    "**Step 7: Write a function for taking hits**<br>\n",
    "Either player can take hits until they bust. This function will be called during gameplay anytime a Player requests a hit, or a Dealer's hand is less than 17. It should take in Deck and Hand objects as arguments, and deal one card off the deck and add it to the Hand. You may want it to check for aces in the event that a player's hand exceeds 21."
   ]
  },
  {
   "cell_type": "code",
   "execution_count": 7,
   "metadata": {},
   "outputs": [],
   "source": [
    "def hit(deck,hand):\n",
    "    # Adding cards into the hand from the deck\n",
    "    hand.add_card(deck.deal())\n",
    "    #Check for aces. The logic is already defind the adjust_for_aces() method in the Hand class\n",
    "    hand.adjust_for_ace()"
   ]
  },
  {
   "cell_type": "code",
   "execution_count": null,
   "metadata": {},
   "outputs": [],
   "source": [
    "## Test for hit() function\n",
    "test_deck = Deck()\n",
    "test_hand = Hand()\n",
    "\n",
    "hit(test_deck,test_hand)\n",
    "print(test_hand.cards[0])\n",
    "print(test_hand.value)"
   ]
  },
  {
   "cell_type": "markdown",
   "metadata": {},
   "source": [
    "**Step 8: Write a function prompting the Player to Hit or Stand**<br>\n",
    "This function should accept the deck and the player's hand as arguments, and assign playing as a global variable.<br>\n",
    "If the Player Hits, employ the hit() function above. If the Player Stands, set the playing variable to False - this will control the behavior of a <code>while</code> loop later on in our code."
   ]
  },
  {
   "cell_type": "code",
   "execution_count": 8,
   "metadata": {},
   "outputs": [],
   "source": [
    "def hit_or_stand(deck,hand):\n",
    "    global playing # to control an upcoming while loop\n",
    "    \n",
    "    while True:\n",
    "        x = input('Do you want to Hit or Stand? Enter h:Hit, s:Stand ')\n",
    "        \n",
    "        if x[0].lower() == 'h': #Here we use the first letter. This covers if the user inputs hit or stand\n",
    "            hit(deck,hand) #call the hit() function\n",
    "        elif x[0].lower() == 's':\n",
    "            print('\\nPlayer stands. Dealer is playing!')\n",
    "            playing = False\n",
    "        else:\n",
    "            print('Wrong Input. Please give the correct choice')\n",
    "            continue\n",
    "        \n",
    "        break"
   ]
  },
  {
   "cell_type": "code",
   "execution_count": null,
   "metadata": {},
   "outputs": [],
   "source": [
    "## Test the hit_or_stand function\n",
    "test_deck = Deck()\n",
    "test_hand = Hand()\n",
    "\n",
    "hit_or_stand(test_deck,test_hand)\n",
    "print(test_hand.cards[0])\n",
    "print(test_hand.value)"
   ]
  },
  {
   "cell_type": "markdown",
   "metadata": {},
   "source": [
    "**Step 9: Write functions to display cards**<br>\n",
    "When the game starts, and after each time Player takes a card, the dealer's first card is hidden and all of Player's cards are visible. At the end of the hand all cards are shown, and you may want to show each hand's total value. Write a function for each of these scenarios."
   ]
  },
  {
   "cell_type": "code",
   "execution_count": 9,
   "metadata": {},
   "outputs": [],
   "source": [
    "def show_some(player,dealer):\n",
    "    \n",
    "    # Show only ONE of the dealers's cards\n",
    "    print(\"\\nDealer's Hand:\")\n",
    "    print(\"First card hidden!\")\n",
    "    print('',dealer.cards[1]) # Initially the dealer has only two cards. First card is hidden\n",
    "    \n",
    "    # Show all (2 cards) of the player's hand/cards\n",
    "    print(\"\\nPlayer's Hand:\")\n",
    "    for card in player.cards:\n",
    "        print(card)\n",
    "    \n",
    "def show_all(player,dealer):\n",
    "    \n",
    "    # Show all of the dealer cards\n",
    "    print(\"\\nDealer's Hand:\")\n",
    "    for card in dealer.cards:\n",
    "        print(card)\n",
    "        \n",
    "    #Calculate and display value of dealer(J+K == 20)\n",
    "    print(f\"Value of Dealer's hand is: {dealer.value}\")\n",
    "    \n",
    "    # Show all of the player cards\n",
    "    print(\"\\nPlayers's Hand:\")\n",
    "    for card in player.cards:\n",
    "        print(card)"
   ]
  },
  {
   "cell_type": "markdown",
   "metadata": {},
   "source": [
    "**Step 10: Write functions to handle end of game scenarios**<br>\n",
    "Remember to pass player's hand, dealer's hand and chips as needed."
   ]
  },
  {
   "cell_type": "code",
   "execution_count": 10,
   "metadata": {},
   "outputs": [],
   "source": [
    "def player_busts(player, dealer, chips):\n",
    "    print(\"PLAYER BUSTS!\")\n",
    "    chips.lose_bet()\n",
    "    \n",
    "def player_wins(player, dealer, chips):\n",
    "    print(\"PLAYER WINS!\")\n",
    "    chips.win_bet()\n",
    "\n",
    "def dealer_busts(player, dealer, chips):\n",
    "    print(\"DEALER BUSTED. PLAYER WINS!\")\n",
    "    chips.win_bet()\n",
    "    \n",
    "def dealer_wins(player, dealer, chips):\n",
    "    print(\"DEALER WINS!\")\n",
    "    chips.lose_bet()\n",
    "    \n",
    "def push(player, dealer):\n",
    "    print('DEALER AND PLAYER TIE! PUSH')"
   ]
  },
  {
   "cell_type": "markdown",
   "metadata": {},
   "source": [
    "### And now on to the game!!"
   ]
  },
  {
   "cell_type": "code",
   "execution_count": null,
   "metadata": {},
   "outputs": [],
   "source": [
    "## Test to set the initial fund and make it dynamic\n",
    "add_fund = input('Do you want to add fund or use default value ? y/n')\n",
    "\n",
    "if add_fund[0].lower() == 'y':\n",
    "    while True:\n",
    "        try:\n",
    "            input_fund = int(input('Enter the fund value you want use for blackjack'))\n",
    "        except ValueError:\n",
    "            print('Fund Value not an integer! Please correct value')\n",
    "        else:\n",
    "            player_chips = Chips(input_fund)\n",
    "            break\n",
    "else:\n",
    "    print('Using Default fund value of 100')\n",
    "    player_chips = Chips()\n",
    "    \n",
    "print(player_chips.total)"
   ]
  },
  {
   "cell_type": "code",
   "execution_count": 11,
   "metadata": {},
   "outputs": [
    {
     "name": "stdout",
     "output_type": "stream",
     "text": [
      "Welcome to BlackJack! Get as close to 21 without going over.\n",
      "Dealer hits until value reaches 17. Aces count as 1 or 11\n",
      "\n",
      "Do you want to use default betting fund (100) ? y/n: n\n",
      "\n",
      "Enter the amount you want use for blackjack: 500\n",
      "\n",
      "Available betting amount for current hand:  500\n",
      "\n",
      "Dealer's Hand:\n",
      "First card hidden!\n",
      " Two of Diamonds\n",
      "\n",
      "Player's Hand:\n",
      "Nine of Hearts\n",
      "Jack of Hearts\n",
      "Enter the bet value: 200\n",
      "Do you want to Hit or Stand? Enter h:Hit, s:Stand s\n",
      "\n",
      "Player stands. Dealer is playing!\n",
      "\n",
      "Dealer's Hand:\n",
      "First card hidden!\n",
      " Two of Diamonds\n",
      "\n",
      "Player's Hand:\n",
      "Nine of Hearts\n",
      "Jack of Hearts\n",
      "\n",
      "Dealer's Hand:\n",
      "Five of Spades\n",
      "Two of Diamonds\n",
      "Ten of Hearts\n",
      "Value of Dealer's hand is: 17\n",
      "\n",
      "Players's Hand:\n",
      "Nine of Hearts\n",
      "Jack of Hearts\n",
      "PLAYER WINS!\n",
      "\n",
      " Player Total chips are at: 700\n",
      "Do you want to play another hand ? y/ny\n",
      "\n",
      "Available betting amount for current hand:  700\n",
      "\n",
      "Dealer's Hand:\n",
      "First card hidden!\n",
      " Four of Diamonds\n",
      "\n",
      "Player's Hand:\n",
      "Four of Spades\n",
      "Jack of Clubs\n",
      "Enter the bet value: 100\n",
      "Do you want to Hit or Stand? Enter h:Hit, s:Stand s\n",
      "\n",
      "Player stands. Dealer is playing!\n",
      "\n",
      "Dealer's Hand:\n",
      "First card hidden!\n",
      " Four of Diamonds\n",
      "\n",
      "Player's Hand:\n",
      "Four of Spades\n",
      "Jack of Clubs\n",
      "\n",
      "Dealer's Hand:\n",
      "Ten of Spades\n",
      "Four of Diamonds\n",
      "Nine of Clubs\n",
      "Value of Dealer's hand is: 23\n",
      "\n",
      "Players's Hand:\n",
      "Four of Spades\n",
      "Jack of Clubs\n",
      "DEALER BUSTED. PLAYER WINS!\n",
      "\n",
      " Player Total chips are at: 800\n",
      "Do you want to play another hand ? y/nn\n",
      "Thank you for playing!\n"
     ]
    }
   ],
   "source": [
    "# Print an opening statement\n",
    "print(\"Welcome to BlackJack! Get as close to 21 without going over.\\n\\\n",
    "Dealer hits until value reaches 17. Aces count as 1 or 11\")\n",
    "\n",
    "#Set up Player Chips depending on how much initial fund to add for betting\n",
    "add_fund = input('\\nDo you want to use default betting fund (100) ? y/n: ')\n",
    "\n",
    "if add_fund[0].lower() == 'n':\n",
    "    while True:\n",
    "        try:\n",
    "            input_fund = int(input('\\nEnter the amount you want use for blackjack: '))\n",
    "        except ValueError:\n",
    "            print('Amount Value not an integer! Please correct value')\n",
    "        else:\n",
    "            player_chips = Chips(input_fund)\n",
    "            break\n",
    "else:\n",
    "    print('\\nDefault betting amount selected')\n",
    "    player_chips = Chips()\n",
    "\n",
    "while True:\n",
    "    # print available funds to betting\n",
    "    print('\\nAvailable betting amount for current hand: ', player_chips.total)\n",
    "    \n",
    "    # Create & shuffle the deck, deal two cards to each player\n",
    "    deck = Deck()\n",
    "    deck.shuffle()\n",
    "    \n",
    "    player_hand = Hand() # Create Hand objects for both player and dealer\n",
    "    dealer_hand = Hand()\n",
    "    \n",
    "    player_hand.add_card(deck.deal()) # Add two cards into player hand from Deck\n",
    "    player_hand.add_card(deck.deal())\n",
    "    \n",
    "    dealer_hand.add_card(deck.deal()) # Add two cards into dealer hand from Deck\n",
    "    dealer_hand.add_card(deck.deal())\n",
    "    \n",
    "    # Show cards (but keep one dealer card hidden)\n",
    "    show_some(player_hand,dealer_hand)\n",
    "    \n",
    "    # Prompt the Player for their bet\n",
    "    take_bet(player_chips)\n",
    "\n",
    "    \n",
    "    while playing:  # recall this variable from our hit_or_stand function\n",
    "        \n",
    "        # Prompt for Player to Hit or Stand\n",
    "        hit_or_stand(deck,player_hand)\n",
    "        \n",
    "        # Show cards (but keep one dealer card hidden)\n",
    "        show_some(player_hand,dealer_hand)\n",
    "        \n",
    "        # If player's hand exceeds 21, run player_busts() and break out of loop\n",
    "        if player_hand.value > 21:\n",
    "            player_busts(player_hand, dealer_hand, player_chips)\n",
    "            break\n",
    "\n",
    "    # If Player hasn't busted, play Dealer's hand until Dealer reaches 17\n",
    "    if player_hand.value <= 21:\n",
    "        \n",
    "        #Hit dealer's hand till 17\n",
    "        while dealer_hand.value < 17:\n",
    "            hit(deck,dealer_hand)\n",
    "    \n",
    "        # Show all cards\n",
    "        show_all(player_hand, dealer_hand)\n",
    "    \n",
    "        # Run different winning scenarios\n",
    "        if player_hand.value > dealer_hand.value:\n",
    "            player_wins(player_hand, dealer_hand, player_chips)\n",
    "        elif dealer_hand.value > 21:\n",
    "            dealer_busts(player_hand, dealer_hand, player_chips)\n",
    "        elif player_hand.value < dealer_hand.value:\n",
    "            dealer_wins(player_hand, dealer_hand, player_chips)\n",
    "        else:\n",
    "            push(player_hand, dealer_hand)\n",
    "    \n",
    "    # Inform Player of their chips total\n",
    "    print('\\n Player Total chips are at: {}'.format(player_chips.total))\n",
    "    \n",
    "    # Ask to play again\n",
    "    new_game = input(\"Do you want to play another hand ? y/n\")\n",
    "    \n",
    "    if new_game[0].lower() == 'y':\n",
    "        playing = True\n",
    "        continue\n",
    "    else:\n",
    "        print('Thank you for playing!')\n",
    "        playing = True # Need to set this otherwise when you restart game, you wont have the option to Hit or Stay\n",
    "        break"
   ]
  },
  {
   "cell_type": "markdown",
   "metadata": {},
   "source": [
    "And that's it! Remember, these steps may differ significantly from your own solution. That's OK! Keep working on different sections of your program until you get the desired results. It takes a lot of time and patience! As always, feel free to post questions and comments to the QA Forums.\n",
    "# Good job!"
   ]
  }
 ],
 "metadata": {
  "kernelspec": {
   "display_name": "Python 3",
   "language": "python",
   "name": "python3"
  },
  "language_info": {
   "codemirror_mode": {
    "name": "ipython",
    "version": 3
   },
   "file_extension": ".py",
   "mimetype": "text/x-python",
   "name": "python",
   "nbconvert_exporter": "python",
   "pygments_lexer": "ipython3",
   "version": "3.8.5"
  }
 },
 "nbformat": 4,
 "nbformat_minor": 1
}
