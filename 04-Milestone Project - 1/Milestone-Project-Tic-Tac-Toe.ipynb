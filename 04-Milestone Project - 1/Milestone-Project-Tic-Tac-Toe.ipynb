{
 "cells": [
  {
   "cell_type": "markdown",
   "id": "abeab827",
   "metadata": {},
   "source": [
    "# Project 1: Tic Tac Toe\n",
    "The scope of the project is:\n",
    "\n",
    "    1. We need to print a board.\n",
    "    \n",
    "    2. Take in player input.\n",
    "    \n",
    "    3. Place their input on the board.\n",
    "    \n",
    "    4. Check if the game is won,tied, lost, or ongoing.\n",
    "    \n",
    "    5. Repeat c and d until the game has been won or tied.\n",
    "    \n",
    "    6. Ask if players want to play again."
   ]
  },
  {
   "cell_type": "markdown",
   "id": "3a552c4e",
   "metadata": {},
   "source": [
    "## Step 0: Import required Libraries"
   ]
  },
  {
   "cell_type": "code",
   "execution_count": 1,
   "id": "819f9ae5",
   "metadata": {},
   "outputs": [],
   "source": [
    "from IPython.display import clear_output\n",
    "import random"
   ]
  },
  {
   "cell_type": "markdown",
   "id": "53968b18",
   "metadata": {},
   "source": [
    "## Step 1: Function to display the board:\n",
    "Create a fucntion to display the board"
   ]
  },
  {
   "cell_type": "code",
   "execution_count": 2,
   "id": "f314325b",
   "metadata": {},
   "outputs": [],
   "source": [
    "def display_board(board):\n",
    "    \n",
    "    ## Clear the history for the board\n",
    "    clear_output()\n",
    "    print('------------')\n",
    "    print('   |   |')\n",
    "    print(' '  + board[7] + ' | ' + board[8] + ' | ' + board[9])\n",
    "    print('   |   |')\n",
    "    print('------------')\n",
    "    print('   |   |')\n",
    "    print(' '  + board[4] + ' | ' + board[5] + ' | ' + board[6])\n",
    "    print('   |   |')\n",
    "    print('------------')\n",
    "    print('   |   |')\n",
    "    print(' '  + board[1] + ' | ' + board[2] + ' | ' + board[3])\n",
    "    print('   |   |')\n",
    "    print('------------')\n",
    "    "
   ]
  },
  {
   "cell_type": "markdown",
   "id": "0da9dfbb",
   "metadata": {},
   "source": [
    "### Test Step1: Run the function and test it. Make changes as requried"
   ]
  },
  {
   "cell_type": "code",
   "execution_count": 3,
   "id": "dc62b17d",
   "metadata": {},
   "outputs": [
    {
     "name": "stdout",
     "output_type": "stream",
     "text": [
      "------------\n",
      "   |   |\n",
      " X | O | X\n",
      "   |   |\n",
      "------------\n",
      "   |   |\n",
      " O | X | O\n",
      "   |   |\n",
      "------------\n",
      "   |   |\n",
      " X | O | X\n",
      "   |   |\n",
      "------------\n"
     ]
    }
   ],
   "source": [
    "board_test = ['#','X','O','X','O','X','O','X','O','X']\n",
    "display_board(board_test)"
   ]
  },
  {
   "cell_type": "markdown",
   "id": "59497067",
   "metadata": {},
   "source": [
    "# Step 2:Function to assign player markers\n",
    "Create a function to assign the marker 'X or 'O' to both players"
   ]
  },
  {
   "cell_type": "code",
   "execution_count": 4,
   "id": "cc2a0dd5",
   "metadata": {},
   "outputs": [],
   "source": [
    "def assign_marker():\n",
    "\n",
    "    marker = ''\n",
    "    \n",
    "    # Keep asking Player 1 to choose X or O\n",
    "    while marker != 'X' and marker != 'O':\n",
    "        if marker != '':\n",
    "            # Print statement for invalid input\n",
    "            print('Invalid Input') \n",
    "        marker = input('Player 1: Chose your marker (X or O):').upper()\n",
    "    \n",
    "    # Return Player 1 marker as 'X' and Player 2 marker as 'O'\n",
    "    if marker == 'X':\n",
    "        return('X','O')\n",
    "    # Return Player 1 marker as 'O' and Player 2 marker as 'X'\n",
    "    else:\n",
    "        return('O','X')"
   ]
  },
  {
   "cell_type": "markdown",
   "id": "388b8bfe",
   "metadata": {},
   "source": [
    "### Test Step 2: Run the function and test if the correct values are returned"
   ]
  },
  {
   "cell_type": "code",
   "execution_count": 5,
   "id": "3a257412",
   "metadata": {},
   "outputs": [
    {
     "name": "stdout",
     "output_type": "stream",
     "text": [
      "Player 1: Chose your marker (X or O):X\n"
     ]
    },
    {
     "data": {
      "text/plain": [
       "('X', 'O')"
      ]
     },
     "execution_count": 5,
     "metadata": {},
     "output_type": "execute_result"
    }
   ],
   "source": [
    "assign_marker()"
   ]
  },
  {
   "cell_type": "markdown",
   "id": "16d81242",
   "metadata": {},
   "source": [
    "## Step 3: Function to write to the board\n",
    "Create a function that takes the board list, marker ('X' or 'O') and the desired position (1-9). It should assign the marker to the desired position on the board"
   ]
  },
  {
   "cell_type": "code",
   "execution_count": 6,
   "id": "e0e7e9c9",
   "metadata": {},
   "outputs": [],
   "source": [
    "def mark_board(board, marker, position):\n",
    "    # Set the marker to the position on the board\n",
    "    board[position] = marker"
   ]
  },
  {
   "cell_type": "markdown",
   "id": "3fc3a4d9",
   "metadata": {},
   "source": [
    "### Test Step 3: Run the function and test if the function works right"
   ]
  },
  {
   "cell_type": "code",
   "execution_count": 7,
   "id": "8d02f30a",
   "metadata": {},
   "outputs": [
    {
     "name": "stdout",
     "output_type": "stream",
     "text": [
      "------------\n",
      "   |   |\n",
      "   |   |  \n",
      "   |   |\n",
      "------------\n",
      "   |   |\n",
      "   |   |  \n",
      "   |   |\n",
      "------------\n",
      "   |   |\n",
      "   |   | X\n",
      "   |   |\n",
      "------------\n"
     ]
    }
   ],
   "source": [
    "board_test1 = [' ']*10\n",
    "mark_board(board_test1,'X',3)\n",
    "display_board(board_test1)"
   ]
  },
  {
   "cell_type": "markdown",
   "id": "92a98232",
   "metadata": {},
   "source": [
    "## Step 4: Function for Win Check\n",
    "Write a function to check a particular player has won the game. The function should take in the board and a marker"
   ]
  },
  {
   "cell_type": "code",
   "execution_count": 8,
   "id": "24761403",
   "metadata": {},
   "outputs": [],
   "source": [
    "def win_check(board, marker):\n",
    "    win = False\n",
    "    \n",
    "    if ((board[1] == marker and board[2] == marker and board[3] == marker) or # Across the bottom\n",
    "        (board[4] == marker and board[5] == marker and board[6] == marker) or # Across the middle\n",
    "        (board[7] == marker and board[8] == marker and board[9] == marker) or # Across the top\n",
    "        (board[1] == marker and board[4] == marker and board[7] == marker) or # Down the left\n",
    "        (board[2] == marker and board[5] == marker and board[8] == marker) or # Down the middle\n",
    "        (board[3] == marker and board[6] == marker and board[9] == marker) or # Down the right\n",
    "        (board[1] == marker and board[5] == marker and board[9] == marker) or # Left Diagonal\n",
    "        (board[3] == marker and board[5] == marker and board[7] == marker)):  # Right Digonal\n",
    "            win = True\n",
    "    \n",
    "    return win"
   ]
  },
  {
   "cell_type": "markdown",
   "id": "839f057e",
   "metadata": {},
   "source": [
    "### Test Step 4: Runt the function and check if the function works right"
   ]
  },
  {
   "cell_type": "code",
   "execution_count": 9,
   "id": "4317dd08",
   "metadata": {},
   "outputs": [
    {
     "data": {
      "text/plain": [
       "False"
      ]
     },
     "execution_count": 9,
     "metadata": {},
     "output_type": "execute_result"
    }
   ],
   "source": [
    "win_check(board_test,'O')"
   ]
  },
  {
   "cell_type": "markdown",
   "id": "d3ecfd8b",
   "metadata": {},
   "source": [
    "## Step 5: Function to decide which player goes first\n",
    "This function iomports the randomint function from randomm module to decide which player goes first. Function should return a string player 1 or player 2"
   ]
  },
  {
   "cell_type": "code",
   "execution_count": 10,
   "id": "a8ddb004",
   "metadata": {},
   "outputs": [],
   "source": [
    "def choose_first():\n",
    "    # Randomly select 0 or 1. If 0 it is player 2 else it is player 1\n",
    "    first = random.randint(0,1)\n",
    "    \n",
    "    if first == 0:\n",
    "        return 'Player 2'\n",
    "    else:\n",
    "        return 'Player 1'"
   ]
  },
  {
   "cell_type": "markdown",
   "id": "535641b1",
   "metadata": {},
   "source": [
    "### Test Step 5: Run the function and check if it works fine"
   ]
  },
  {
   "cell_type": "code",
   "execution_count": 11,
   "id": "66b33fb3",
   "metadata": {},
   "outputs": [
    {
     "data": {
      "text/plain": [
       "'Player 2'"
      ]
     },
     "execution_count": 11,
     "metadata": {},
     "output_type": "execute_result"
    }
   ],
   "source": [
    "choose_first()"
   ]
  },
  {
   "cell_type": "markdown",
   "id": "80b39cfe",
   "metadata": {},
   "source": [
    "## Step 6: Function to check if space is free\n",
    "The function to should take in the board and position and return a boolean 1 if space is available else should return 0"
   ]
  },
  {
   "cell_type": "code",
   "execution_count": 12,
   "id": "f0502e8a",
   "metadata": {},
   "outputs": [],
   "source": [
    "def check_space(board,position):\n",
    "    return board[position] == ' ' # Keep in mind it is a double space in between ''"
   ]
  },
  {
   "cell_type": "markdown",
   "id": "259e0d35",
   "metadata": {},
   "source": [
    "### Test Step 6: Check if the function works right "
   ]
  },
  {
   "cell_type": "code",
   "execution_count": 13,
   "id": "0fcb5103",
   "metadata": {},
   "outputs": [
    {
     "data": {
      "text/plain": [
       "False"
      ]
     },
     "execution_count": 13,
     "metadata": {},
     "output_type": "execute_result"
    }
   ],
   "source": [
    "check_space(board_test,3)"
   ]
  },
  {
   "cell_type": "code",
   "execution_count": 14,
   "id": "369d24b0",
   "metadata": {},
   "outputs": [
    {
     "data": {
      "text/plain": [
       "True"
      ]
     },
     "execution_count": 14,
     "metadata": {},
     "output_type": "execute_result"
    }
   ],
   "source": [
    "check_space(board_test1,6)"
   ]
  },
  {
   "cell_type": "markdown",
   "id": "479e4638",
   "metadata": {},
   "source": [
    "## Step 7: Function to check if board is full\n",
    "The function to should take in the board and return a boolean 1 if full else should return 0\n"
   ]
  },
  {
   "cell_type": "code",
   "execution_count": 15,
   "id": "d8936789",
   "metadata": {},
   "outputs": [],
   "source": [
    "def board_full_check(board):\n",
    "    # Use the check_space function to check if any position in board is empty\n",
    "    for i in range(1,10):\n",
    "        if check_space(board,i):\n",
    "            return False # This means that there is space in the board\n",
    "    \n",
    "    # Loop is over and there is no space, hence the if condition is not satisfied \n",
    "    return True"
   ]
  },
  {
   "cell_type": "markdown",
   "id": "e128d816",
   "metadata": {},
   "source": [
    "### Test Step7: Check if the function works right"
   ]
  },
  {
   "cell_type": "code",
   "execution_count": 16,
   "id": "cdef3463",
   "metadata": {},
   "outputs": [
    {
     "data": {
      "text/plain": [
       "True"
      ]
     },
     "execution_count": 16,
     "metadata": {},
     "output_type": "execute_result"
    }
   ],
   "source": [
    "board_full_check(board_test)"
   ]
  },
  {
   "cell_type": "code",
   "execution_count": 17,
   "id": "69feed87",
   "metadata": {},
   "outputs": [
    {
     "data": {
      "text/plain": [
       "False"
      ]
     },
     "execution_count": 17,
     "metadata": {},
     "output_type": "execute_result"
    }
   ],
   "source": [
    "board_full_check(board_test1)"
   ]
  },
  {
   "cell_type": "markdown",
   "id": "0f25f6a3",
   "metadata": {},
   "source": [
    "## Step 8: Function to return player choice\n",
    "Function takes in the board and asks for the player choice for position (1-9). Returns the position if the position is empty."
   ]
  },
  {
   "cell_type": "code",
   "execution_count": 18,
   "id": "2d33fbb5",
   "metadata": {},
   "outputs": [],
   "source": [
    "def player_choice(board):\n",
    "    position = 0\n",
    "    pos_empty = False ##Flag to show position is empty\n",
    "    \n",
    "    # Run the loop till position value is from (1-9)\n",
    "    while pos_empty == False:\n",
    "        \n",
    "        # check to see if the board is full and break out of the loop\n",
    "        if board_full_check(board):\n",
    "            print('Board is full, Cant take any more input')\n",
    "            break\n",
    "        \n",
    "        # Get input from the player\n",
    "        position = int(input('Choose your next position (1-9): '))\n",
    "        \n",
    "        if position not in range(1,10): # Error for input not within bounds\n",
    "            print('Position Out of Range. Please give value between 1-9 ')\n",
    "        \n",
    "        else:\n",
    "            # Check if given position is empty\n",
    "            if check_space(board,position) == 0:\n",
    "                print('Position is already selected. Please select open position')\n",
    "            else:\n",
    "                pos_empty = True\n",
    "                \n",
    "        \n",
    "    if position != 0:\n",
    "        return position\n",
    "        "
   ]
  },
  {
   "cell_type": "markdown",
   "id": "fc31723f",
   "metadata": {},
   "source": [
    "### Test Step 8: Check if the function works rigght"
   ]
  },
  {
   "cell_type": "code",
   "execution_count": 19,
   "id": "1eba2d50",
   "metadata": {},
   "outputs": [
    {
     "name": "stdout",
     "output_type": "stream",
     "text": [
      "Board is full, Cant take any more input\n"
     ]
    }
   ],
   "source": [
    "player_choice(board_test)"
   ]
  },
  {
   "cell_type": "code",
   "execution_count": 20,
   "id": "215234d8",
   "metadata": {},
   "outputs": [
    {
     "name": "stdout",
     "output_type": "stream",
     "text": [
      "Choose your next position (1-9): 1\n",
      "Choose your next position (1-9): 1\n"
     ]
    },
    {
     "data": {
      "text/plain": [
       "int"
      ]
     },
     "execution_count": 20,
     "metadata": {},
     "output_type": "execute_result"
    }
   ],
   "source": [
    "player_choice(board_test1)\n",
    "type(player_choice(board_test1))"
   ]
  },
  {
   "cell_type": "markdown",
   "id": "5901abfe",
   "metadata": {},
   "source": [
    "## Step 9: Function to check if the player wants to play again\n",
    "Function asks the players if he wants to continue and returns boolen True or False"
   ]
  },
  {
   "cell_type": "code",
   "execution_count": 21,
   "id": "9069c7ba",
   "metadata": {},
   "outputs": [],
   "source": [
    "def replay():\n",
    "    return input(\"Do you want to play again ? Enter Yes or No: \").upper().startswith('y')"
   ]
  },
  {
   "cell_type": "markdown",
   "id": "36172b64",
   "metadata": {},
   "source": [
    "### Test Step 9: Check if the function works right"
   ]
  },
  {
   "cell_type": "code",
   "execution_count": 22,
   "id": "c7b8c6ef",
   "metadata": {},
   "outputs": [
    {
     "name": "stdout",
     "output_type": "stream",
     "text": [
      "Do you want to play again ? Enter Yes or No: Y\n"
     ]
    },
    {
     "data": {
      "text/plain": [
       "False"
      ]
     },
     "execution_count": 22,
     "metadata": {},
     "output_type": "execute_result"
    }
   ],
   "source": [
    "replay()"
   ]
  },
  {
   "cell_type": "markdown",
   "id": "8ede16c9",
   "metadata": {},
   "source": [
    "## Step 10: Run the Tic Tac Toe Program"
   ]
  },
  {
   "cell_type": "code",
   "execution_count": 28,
   "id": "6e06adab",
   "metadata": {},
   "outputs": [
    {
     "name": "stdout",
     "output_type": "stream",
     "text": [
      "------------\n",
      "   |   |\n",
      " O | X | O\n",
      "   |   |\n",
      "------------\n",
      "   |   |\n",
      " O | X | X\n",
      "   |   |\n",
      "------------\n",
      "   |   |\n",
      " X | O | X\n",
      "   |   |\n",
      "------------\n",
      "Game is a draw!\n",
      "Do you want to play again ? Enter Yes or No: n\n",
      "Game is Over. See you again\n"
     ]
    }
   ],
   "source": [
    "print('Welcome to Tic Tac Toe!')\n",
    "\n",
    "while True: # Run the program till the player wants to\n",
    "    \n",
    "    # Build the board\n",
    "    game_board = [' '] * 10\n",
    "    \n",
    "    #Only for development purpose\n",
    "    #display_board(game_board)\n",
    "    #break \n",
    "    \n",
    "    # Assign the markers for the player 1 and player 2\n",
    "    player1_marker , player2_marker = assign_marker()\n",
    "    \n",
    "    #Only for development purpose\n",
    "    #print(player1_marker, player2_marker)\n",
    "    #print(type(player1_marker))\n",
    "    #break\n",
    "    \n",
    "    # Chose which player goes first:\n",
    "    turn = choose_first()\n",
    "    print(turn + ' will go first.' )\n",
    "    \n",
    "    # Set the flag to play the game\n",
    "    play_game = input('Do you want to play the game ? Enter Y or N')\n",
    "    \n",
    "    if play_game.lower() == 'y':\n",
    "        game_on = True\n",
    "    else:\n",
    "        game_on = False\n",
    "    \n",
    "    # Play the game\n",
    "    while game_on:\n",
    "        # Player1's turn\n",
    "        if turn == 'Player 1':\n",
    "            \n",
    "            display_board(game_board) # Display the board for visualization\n",
    "            print('Player 1 Turn ')\n",
    "            position = player_choice(game_board) # Get the position from Player 1\n",
    "            mark_board(game_board, player1_marker, position) # Mark the position on the board with player1 marker\n",
    "            \n",
    "            # Check if player 1 has won the game\n",
    "            if win_check(game_board, player1_marker):\n",
    "                display_board(game_board)\n",
    "                print('Congratulations Player 1! You have won the game!')\n",
    "                game_on = False\n",
    "            \n",
    "            # Check if the game is a draw\n",
    "            else:\n",
    "                if board_full_check(game_board):\n",
    "                    display_board(game_board)\n",
    "                    print('Game is a draw!')\n",
    "                    game_on = False\n",
    "                # Move to player 2 if space is available\n",
    "                else:\n",
    "                    turn = 'Player 2'\n",
    "        \n",
    "        # Player2's turn\n",
    "        else:\n",
    "            \n",
    "            display_board(game_board) # Display the board for visualization\n",
    "            print('Player 2 Turn ')\n",
    "            position = player_choice(game_board) # Get the position from Player 2\n",
    "            mark_board(game_board ,player2_marker,position) # Mark the position on the board with player2 marker\n",
    "            \n",
    "            # Check if player 2 has won the game\n",
    "            if win_check(game_board, player2_marker):\n",
    "                display_board(game_board)\n",
    "                print('Congratulations Player 2! You have won the game!')\n",
    "                game_on = False\n",
    "                \n",
    "             # Check if the game is a draw\n",
    "            else:\n",
    "                if board_full_check(game_board):\n",
    "                    display_board(game_board)\n",
    "                    print('Game is a draw!')\n",
    "                    game_on = False\n",
    "                # Move to player 1 if space is available\n",
    "                else:\n",
    "                    turn = 'Player 1'\n",
    "    \n",
    "    # Game is over here. Check if you want to replay\n",
    "    if not replay():\n",
    "        break\n",
    "        \n",
    "print('Game is Over. See you again')\n",
    "            "
   ]
  },
  {
   "cell_type": "code",
   "execution_count": null,
   "id": "a9645e01",
   "metadata": {},
   "outputs": [],
   "source": []
  }
 ],
 "metadata": {
  "kernelspec": {
   "display_name": "Python 3",
   "language": "python",
   "name": "python3"
  },
  "language_info": {
   "codemirror_mode": {
    "name": "ipython",
    "version": 3
   },
   "file_extension": ".py",
   "mimetype": "text/x-python",
   "name": "python",
   "nbconvert_exporter": "python",
   "pygments_lexer": "ipython3",
   "version": "3.8.5"
  }
 },
 "nbformat": 4,
 "nbformat_minor": 5
}
